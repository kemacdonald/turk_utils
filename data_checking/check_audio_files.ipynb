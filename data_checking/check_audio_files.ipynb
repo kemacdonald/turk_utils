{
 "cells": [
  {
   "cell_type": "code",
   "execution_count": 1,
   "metadata": {},
   "outputs": [],
   "source": [
    "import os\n",
    "import sys\n",
    "import sox\n",
    "import re\n",
    "import logging\n",
    "sys.path.insert(0, '/Users/kmacdonald/Documents/Projects/apprente/code/qsr_turk/turk_data_collection/turk-r1-6-6-18/data_checking_scripts')\n",
    "import check_audio"
   ]
  },
  {
   "cell_type": "code",
   "execution_count": 2,
   "metadata": {},
   "outputs": [],
   "source": [
    "logging.basicConfig(filename='audio_files_test.log', level=logging.ERROR)"
   ]
  },
  {
   "cell_type": "code",
   "execution_count": 3,
   "metadata": {},
   "outputs": [],
   "source": [
    "os.getcwd()\n",
    "silent_audio_file = \"../raw_audio/wav_no_ids/person67/person67_vanilla_shake_1.wav\"\n",
    "good_audio_file = '../raw_audio/wav_no_ids/person28/person28_cheeseburger_1.wav'"
   ]
  },
  {
   "cell_type": "code",
   "execution_count": 4,
   "metadata": {},
   "outputs": [
    {
     "data": {
      "text/plain": [
       "{'channels': 1,\n",
       " 'sample_rate': 16000.0,\n",
       " 'bitrate': 16,\n",
       " 'duration': 3.12,\n",
       " 'num_samples': 49920,\n",
       " 'encoding': 'Signed Integer PCM',\n",
       " 'silent': False}"
      ]
     },
     "execution_count": 4,
     "metadata": {},
     "output_type": "execute_result"
    }
   ],
   "source": [
    "sox.file_info.info(good_audio_file)"
   ]
  },
  {
   "cell_type": "code",
   "execution_count": 5,
   "metadata": {},
   "outputs": [
    {
     "data": {
      "text/plain": [
       "'success: person28_cheeseburger_1.wav passed all tests'"
      ]
     },
     "execution_count": 5,
     "metadata": {},
     "output_type": "execute_result"
    }
   ],
   "source": [
    "check_audio.check_file(good_audio_file)"
   ]
  },
  {
   "cell_type": "code",
   "execution_count": 6,
   "metadata": {},
   "outputs": [
    {
     "data": {
      "text/plain": [
       "'error: person67_vanilla_shake_1.wav has no audio'"
      ]
     },
     "execution_count": 6,
     "metadata": {},
     "output_type": "execute_result"
    }
   ],
   "source": [
    "check_audio.check_file(silent_audio_file)"
   ]
  },
  {
   "cell_type": "code",
   "execution_count": 8,
   "metadata": {},
   "outputs": [],
   "source": [
    "# set the root of the data files\n",
    "rootdir = '/Users/kmacdonald/Documents/Projects/apprente/code/qsr_turk/turk_data_collection/turk-r1-6-6-18/raw_audio/wav_no_ids'"
   ]
  },
  {
   "cell_type": "code",
   "execution_count": 9,
   "metadata": {},
   "outputs": [
    {
     "name": "stdout",
     "output_type": "stream",
     "text": [
      "finished with subdir, moving to next set of recordings\n",
      "finished with subdir, moving to next set of recordings\n",
      "finished with subdir, moving to next set of recordings\n",
      "finished with subdir, moving to next set of recordings\n",
      "finished with subdir, moving to next set of recordings\n",
      "finished with subdir, moving to next set of recordings\n",
      "finished with subdir, moving to next set of recordings\n",
      "finished with subdir, moving to next set of recordings\n",
      "finished with subdir, moving to next set of recordings\n",
      "finished with subdir, moving to next set of recordings\n",
      "finished with subdir, moving to next set of recordings\n",
      "finished with subdir, moving to next set of recordings\n",
      "finished with subdir, moving to next set of recordings\n",
      "finished with subdir, moving to next set of recordings\n",
      "finished with subdir, moving to next set of recordings\n",
      "finished with subdir, moving to next set of recordings\n",
      "finished with subdir, moving to next set of recordings\n",
      "finished with subdir, moving to next set of recordings\n",
      "finished with subdir, moving to next set of recordings\n",
      "finished with subdir, moving to next set of recordings\n",
      "finished with subdir, moving to next set of recordings\n",
      "finished with subdir, moving to next set of recordings\n",
      "finished with subdir, moving to next set of recordings\n",
      "finished with subdir, moving to next set of recordings\n",
      "finished with subdir, moving to next set of recordings\n",
      "finished with subdir, moving to next set of recordings\n",
      "finished with subdir, moving to next set of recordings\n",
      "finished with subdir, moving to next set of recordings\n",
      "finished with subdir, moving to next set of recordings\n",
      "finished with subdir, moving to next set of recordings\n",
      "finished with subdir, moving to next set of recordings\n",
      "finished with subdir, moving to next set of recordings\n",
      "finished with subdir, moving to next set of recordings\n"
     ]
    }
   ],
   "source": [
    "for subdir, dirs, files in os.walk(rootdir):\n",
    "    print(\"finished with subdir, moving to next set of recordings\")\n",
    "    for file in files:\n",
    "        file_path = os.path.join(subdir, file)\n",
    "        if os.fsdecode(file_path).endswith(\".wav\"):\n",
    "            test_output = check_audio.check_file(file_path)\n",
    "            if bool(re.match('error', test_output)):\n",
    "                logging.error(test_output)\n",
    "\n",
    "print('done checking audio files')"
   ]
  },
  {
   "cell_type": "code",
   "execution_count": null,
   "metadata": {},
   "outputs": [],
   "source": []
  }
 ],
 "metadata": {
  "kernelspec": {
   "display_name": "Python (apprente)",
   "language": "python",
   "name": "km_apprente"
  },
  "language_info": {
   "codemirror_mode": {
    "name": "ipython",
    "version": 3
   },
   "file_extension": ".py",
   "mimetype": "text/x-python",
   "name": "python",
   "nbconvert_exporter": "python",
   "pygments_lexer": "ipython3",
   "version": "3.6.4"
  }
 },
 "nbformat": 4,
 "nbformat_minor": 2
}
